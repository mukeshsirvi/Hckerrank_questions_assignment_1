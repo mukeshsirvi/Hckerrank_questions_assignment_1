{
 "cells": [
  {
   "cell_type": "markdown",
   "id": "35f9bdf7",
   "metadata": {},
   "source": [
    "1. Finding the percentage\n",
    "\n"
   ]
  },
  {
   "cell_type": "markdown",
   "id": "a31eba57",
   "metadata": {},
   "source": [
    "https://www.hackerrank.com/challenges/finding-the-percentage/submissions/code/258779967"
   ]
  },
  {
   "cell_type": "markdown",
   "id": "c1b9c5bd",
   "metadata": {},
   "source": [
    "2. String Split and Join\n",
    "\n"
   ]
  },
  {
   "cell_type": "markdown",
   "id": "7ec124b6",
   "metadata": {},
   "source": [
    "https://www.hackerrank.com/challenges/python-string-split-and-join/submissions/code/256812116"
   ]
  },
  {
   "cell_type": "markdown",
   "id": "cf616e4d",
   "metadata": {},
   "source": [
    "3. Set .intersection() Operation\n",
    "\n"
   ]
  },
  {
   "cell_type": "markdown",
   "id": "bce5d665",
   "metadata": {},
   "source": [
    "https://www.hackerrank.com/challenges/py-set-intersection-operation/submissions/code/265687733"
   ]
  },
  {
   "cell_type": "markdown",
   "id": "754e1319",
   "metadata": {},
   "source": [
    "4. Find the Runner-Up Score!\n",
    "\n"
   ]
  },
  {
   "cell_type": "markdown",
   "id": "da2ae171",
   "metadata": {},
   "source": [
    "https://www.hackerrank.com/challenges/find-second-maximum-number-in-a-list/submissions/code/243298325"
   ]
  },
  {
   "cell_type": "markdown",
   "id": "a274a3bc",
   "metadata": {},
   "source": [
    "5. sWAP cASE\n",
    "\n"
   ]
  },
  {
   "cell_type": "markdown",
   "id": "a026c82f",
   "metadata": {},
   "source": [
    "https://www.hackerrank.com/challenges/swap-case/submissions/code/243301472"
   ]
  },
  {
   "cell_type": "markdown",
   "id": "ab9ba15a",
   "metadata": {},
   "source": [
    "6. Arithmetic Operators"
   ]
  },
  {
   "cell_type": "markdown",
   "id": "2958f232",
   "metadata": {},
   "source": [
    " https://www.hackerrank.com/challenges/python-arithmetic-operators/submissions/code/243265056"
   ]
  },
  {
   "cell_type": "markdown",
   "id": "7b864d20",
   "metadata": {},
   "source": [
    "7. Python: Division\n",
    "\n"
   ]
  },
  {
   "cell_type": "markdown",
   "id": "669a891f",
   "metadata": {},
   "source": [
    "https://www.hackerrank.com/challenges/python-division/submissions/code/243265308"
   ]
  },
  {
   "cell_type": "markdown",
   "id": "e681a342",
   "metadata": {},
   "source": [
    "8. If-Else"
   ]
  },
  {
   "cell_type": "markdown",
   "id": "a8d094f6",
   "metadata": {},
   "source": [
    "https://www.hackerrank.com/challenges/py-if-else/submissions"
   ]
  },
  {
   "cell_type": "markdown",
   "id": "20bd234e",
   "metadata": {},
   "source": [
    "9. Loops"
   ]
  },
  {
   "cell_type": "markdown",
   "id": "72ae5090",
   "metadata": {},
   "source": [
    "https://www.hackerrank.com/challenges/python-loops/submissions/code/243266030"
   ]
  },
  {
   "cell_type": "markdown",
   "id": "a6fa21ac",
   "metadata": {},
   "source": [
    "10. Write a function"
   ]
  },
  {
   "cell_type": "markdown",
   "id": "44dffedb",
   "metadata": {},
   "source": [
    "https://www.hackerrank.com/challenges/write-a-function/submissions/code/243269625"
   ]
  },
  {
   "cell_type": "markdown",
   "id": "e90511b2",
   "metadata": {},
   "source": [
    "11. Find a string"
   ]
  },
  {
   "cell_type": "markdown",
   "id": "fcae29bc",
   "metadata": {},
   "source": [
    "https://www.hackerrank.com/challenges/find-a-string/submissions"
   ]
  },
  {
   "cell_type": "code",
   "execution_count": null,
   "id": "b2c9ab41",
   "metadata": {},
   "outputs": [],
   "source": [
    "12. "
   ]
  }
 ],
 "metadata": {
  "kernelspec": {
   "display_name": "Python 3 (ipykernel)",
   "language": "python",
   "name": "python3"
  },
  "language_info": {
   "codemirror_mode": {
    "name": "ipython",
    "version": 3
   },
   "file_extension": ".py",
   "mimetype": "text/x-python",
   "name": "python",
   "nbconvert_exporter": "python",
   "pygments_lexer": "ipython3",
   "version": "3.10.1"
  }
 },
 "nbformat": 4,
 "nbformat_minor": 5
}
