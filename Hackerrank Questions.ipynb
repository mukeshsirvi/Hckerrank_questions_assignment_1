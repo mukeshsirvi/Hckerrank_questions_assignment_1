{
 "cells": [
  {
   "cell_type": "markdown",
   "id": "6281998e",
   "metadata": {},
   "source": [
    "1. Finding the percentage\n",
    "\n"
   ]
  },
  {
   "cell_type": "markdown",
   "id": "a5624c79",
   "metadata": {},
   "source": [
    "https://www.hackerrank.com/challenges/finding-the-percentage/submissions/code/258779967"
   ]
  },
  {
   "cell_type": "markdown",
   "id": "1ee65025",
   "metadata": {},
   "source": [
    "2. String Split and Join\n",
    "\n"
   ]
  },
  {
   "cell_type": "markdown",
   "id": "84de8d23",
   "metadata": {},
   "source": [
    "https://www.hackerrank.com/challenges/python-string-split-and-join/submissions/code/256812116"
   ]
  },
  {
   "cell_type": "markdown",
   "id": "60b6e2b4",
   "metadata": {},
   "source": [
    "3. Set .intersection() Operation\n",
    "\n"
   ]
  },
  {
   "cell_type": "markdown",
   "id": "953e6fb3",
   "metadata": {},
   "source": [
    "https://www.hackerrank.com/challenges/py-set-intersection-operation/submissions/code/265687733"
   ]
  },
  {
   "cell_type": "markdown",
   "id": "7e8090a3",
   "metadata": {},
   "source": [
    "4. Find the Runner-Up Score!\n",
    "\n"
   ]
  },
  {
   "cell_type": "markdown",
   "id": "20f035bd",
   "metadata": {},
   "source": [
    "https://www.hackerrank.com/challenges/find-second-maximum-number-in-a-list/submissions/code/243298325"
   ]
  },
  {
   "cell_type": "markdown",
   "id": "2a415279",
   "metadata": {},
   "source": [
    "5. sWAP cASE\n",
    "\n"
   ]
  },
  {
   "cell_type": "markdown",
   "id": "39f66764",
   "metadata": {},
   "source": [
    "https://www.hackerrank.com/challenges/swap-case/submissions/code/243301472"
   ]
  },
  {
   "cell_type": "markdown",
   "id": "290b9027",
   "metadata": {},
   "source": [
    "6. Arithmetic Operators"
   ]
  },
  {
   "cell_type": "markdown",
   "id": "28420008",
   "metadata": {},
   "source": [
    " https://www.hackerrank.com/challenges/python-arithmetic-operators/submissions/code/243265056"
   ]
  },
  {
   "cell_type": "markdown",
   "id": "8a7e0a25",
   "metadata": {},
   "source": [
    "7. Python: Division\n",
    "\n"
   ]
  },
  {
   "cell_type": "markdown",
   "id": "ff511667",
   "metadata": {},
   "source": [
    "https://www.hackerrank.com/challenges/python-division/submissions/code/243265308"
   ]
  },
  {
   "cell_type": "markdown",
   "id": "aa0a8c1c",
   "metadata": {},
   "source": [
    "8. If-Else"
   ]
  },
  {
   "cell_type": "markdown",
   "id": "e0fe4917",
   "metadata": {},
   "source": [
    "https://www.hackerrank.com/challenges/py-if-else/submissions"
   ]
  },
  {
   "cell_type": "markdown",
   "id": "18ef3c78",
   "metadata": {},
   "source": [
    "9. Nested If Else"
   ]
  },
  {
   "cell_type": "markdown",
   "id": "edf90ce7",
   "metadata": {},
   "source": [
    "https://www.hackerrank.com/challenges/nested-list/submissions/code/258810289"
   ]
  },
  {
   "cell_type": "markdown",
   "id": "79154318",
   "metadata": {},
   "source": [
    "10. Loops"
   ]
  },
  {
   "cell_type": "markdown",
   "id": "cbdd8fa6",
   "metadata": {},
   "source": [
    "https://www.hackerrank.com/challenges/python-loops/submissions/code/243266030"
   ]
  },
  {
   "cell_type": "markdown",
   "id": "b5e8e240",
   "metadata": {},
   "source": [
    "11. Write a function"
   ]
  },
  {
   "cell_type": "markdown",
   "id": "16716eaf",
   "metadata": {},
   "source": [
    "https://www.hackerrank.com/challenges/write-a-function/submissions/code/243269625"
   ]
  },
  {
   "cell_type": "markdown",
   "id": "11f69a44",
   "metadata": {},
   "source": [
    "12. Find a string"
   ]
  },
  {
   "cell_type": "markdown",
   "id": "2aed8e5f",
   "metadata": {},
   "source": [
    "https://www.hackerrank.com/challenges/find-a-string/submissions"
   ]
  },
  {
   "cell_type": "markdown",
   "id": "503ecc40",
   "metadata": {},
   "source": [
    "13. Lists"
   ]
  },
  {
   "cell_type": "markdown",
   "id": "df632332",
   "metadata": {},
   "source": [
    "https://www.hackerrank.com/challenges/python-lists/submissions/code/256811509"
   ]
  },
  {
   "cell_type": "code",
   "execution_count": null,
   "id": "715b9702",
   "metadata": {},
   "outputs": [],
   "source": []
  }
 ],
 "metadata": {
  "kernelspec": {
   "display_name": "Python 3 (ipykernel)",
   "language": "python",
   "name": "python3"
  },
  "language_info": {
   "codemirror_mode": {
    "name": "ipython",
    "version": 3
   },
   "file_extension": ".py",
   "mimetype": "text/x-python",
   "name": "python",
   "nbconvert_exporter": "python",
   "pygments_lexer": "ipython3",
   "version": "3.10.1"
  }
 },
 "nbformat": 4,
 "nbformat_minor": 5
}
